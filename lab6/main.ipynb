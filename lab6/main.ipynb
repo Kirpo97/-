{
 "cells": [
  {
   "cell_type": "markdown",
   "metadata": {},
   "source": [
    "# Лабораторная работа №6: Реализация голосового ввода для управления функциями информационных систем"
   ]
  },
  {
   "cell_type": "markdown",
   "metadata": {},
   "source": [
    "---\n",
    "---"
   ]
  },
  {
   "cell_type": "markdown",
   "metadata": {},
   "source": [
    "Задание:\n",
    "1. Необходимо реализовать модуль, который записывает команду голосом с микрофона по умолчанию, превращает ее в текст, извлекает из текста ключевые слова, если находит в ключевых словах команду, выполняет ее.\n",
    "2. Для этого нужно создать виртуальную среду  `python -m venv ./venv`\n",
    "3. Установить библиотеку для записи аудио `pyaudio`: `python -m pip install pyaudio` ([PyAudio: Cross-platform audio I/O for Python, with PortAudio](https://people.csail.mit.edu/hubert/pyaudio/#docs))\n",
    "4. Установить платформу для распознавания речи Whisper ([GitHub - openai/whisper: Robust Speech Recognition via Large-Scale Weak Supervision](https://github.com/openai/whisper)): `pip install git+https://github.com/openai/whisper.git`\n",
    "5. Воспользовавшись наработками из лабораторной работы №4, реализовать препроцессинг голосовой команды и извлечение ключевых слов для вариантов ниже:\n",
    "    1. для генерации ссылки на поиск, например, в Яндексе произвольного текста в браузере по умолчанию\n",
    "    2. для открытия видеофайла из файловой системы в плеере по умолчанию или поиска видео на YouTube (или аналогичной платформе)\n",
    "    3. для запуска любого приложения для коммуникации (ВК, Телеграм, Дискорд и т.п.)\n",
    "6. Реализовать через `subprocess` или иные средства выполнение указанных команд\n",
    "\n",
    ">[!note]\n",
    ">Передавать в Whisper можно как .wav-файл, так и NumPy-массив\n",
    ">Но тут есть нюансы, поэтому рекомендую прочесть эти две ссылки: \n",
    ">- [How to send audio to Whisper in a numpy array ? · openai/whisper · Discussion #450 · GitHub](https://github.com/openai/whisper/discussions/450)\n",
    ">- [python - How to feed a numpy array as audio for whisper model - Stack Overflow](https://stackoverflow.com/questions/76448210/how-to-feed-a-numpy-array-as-audio-for-whisper-model)\n"
   ]
  },
  {
   "cell_type": "markdown",
   "metadata": {},
   "source": [
    "---\n",
    "---"
   ]
  },
  {
   "cell_type": "markdown",
   "metadata": {},
   "source": [
    "to_main.py -->"
   ]
  },
  {
   "cell_type": "code",
   "execution_count": 3,
   "metadata": {},
   "outputs": [
    {
     "name": "stdout",
     "output_type": "stream",
     "text": [
      "\n",
      "Программа поддерживает 3 вида комманд: 1) открыть браузер и найти что-нибудь в поисковике, 2) поиск видео из yotube, 3) запуск программ на ПК(можно открыть 2 программы: vscode и стим)\n",
      "\n",
      "Ключевые слова для 1 команды: поиск, найти\n",
      "\n",
      "Ключевые слова для 2 команды: youtube, видео\n",
      "\n",
      "Ключевые слова для 3 команды: steam, code\n",
      "\n",
      "Произнесите комманду в течении 10 секунд:\n",
      "\n",
      "Recording...\n",
      "Done\n"
     ]
    },
    {
     "name": "stderr",
     "output_type": "stream",
     "text": [
      "[nltk_data] Downloading package punkt to /home/kirill/nltk_data...\n",
      "[nltk_data]   Package punkt is already up-to-date!\n",
      "[nltk_data] Downloading package stopwords to /home/kirill/nltk_data...\n",
      "[nltk_data]   Package stopwords is already up-to-date!\n"
     ]
    },
    {
     "name": "stdout",
     "output_type": "stream",
     "text": [
      "\n",
      "Получен корпус слов: ['']\n",
      "\n",
      "Ключевого слова не найдено, повторите попытку!\n",
      "\n",
      "Recording...\n",
      "Done\n"
     ]
    },
    {
     "name": "stderr",
     "output_type": "stream",
     "text": [
      "[nltk_data] Downloading package punkt to /home/kirill/nltk_data...\n",
      "[nltk_data]   Package punkt is already up-to-date!\n",
      "[nltk_data] Downloading package stopwords to /home/kirill/nltk_data...\n",
      "[nltk_data]   Package stopwords is already up-to-date!\n"
     ]
    },
    {
     "name": "stdout",
     "output_type": "stream",
     "text": [
      "\n",
      "Получен корпус слов: ['запустить код']\n",
      "Открываю локальное прилажение VScode...\n"
     ]
    }
   ],
   "source": [
    "import wave\n",
    "import pyaudio\n",
    "import subprocess\n",
    "import webbrowser\n",
    "import whisper\n",
    "import nltk\n",
    "from nltk.corpus import stopwords\n",
    "from nltk.tokenize import word_tokenize\n",
    "import pymorphy3\n",
    "\n",
    "def start_sream(path, name):\n",
    "    CHUNK = 1024\n",
    "    FORMAT = pyaudio.paInt16\n",
    "    CHANNELS = 2\n",
    "    RATE = 44100\n",
    "    RECORD_SECONDS = 10\n",
    "    \n",
    "    with wave.open(path + name, 'wb') as wf:\n",
    "        p = pyaudio.PyAudio()\n",
    "        wf.setnchannels(CHANNELS)\n",
    "        wf.setsampwidth(p.get_sample_size(FORMAT))\n",
    "        wf.setframerate(RATE)\n",
    "\n",
    "        stream = p.open(format=FORMAT, channels=CHANNELS, rate=RATE, input=True)\n",
    "\n",
    "        print('Recording...')\n",
    "        for _ in range(0, RATE // CHUNK * RECORD_SECONDS):\n",
    "            wf.writeframes(stream.read(CHUNK))\n",
    "        print('Done')\n",
    "        \n",
    "        stream.close()\n",
    "        p.terminate()\n",
    "\n",
    "def recognize():\n",
    "    model = whisper.load_model(\"base\")\n",
    "    result = model.transcribe(path + name)\n",
    "    return result[\"text\"]\n",
    "\n",
    "def tokenization():\n",
    "    corpus = [] \n",
    "    nltk.download('punkt')\n",
    "    nltk.download('stopwords')\n",
    "    stop_words = set(stopwords.words('russian'))\n",
    "    morph = pymorphy3.MorphAnalyzer()\n",
    "    \n",
    "    text = recognize()\n",
    "    tokens = word_tokenize(text)\n",
    "    tokens = [morph.parse(token)[0].normal_form for token in tokens if token.isalnum() and not token.isdigit()]\n",
    "    tokens = [token for token in tokens if token not in stop_words]\n",
    "    text = ' '.join(tokens)\n",
    "    corpus.append(text)\n",
    "    return corpus\n",
    "\n",
    "def set_command():\n",
    "    \n",
    "    words_for_web = ['поиск', 'повиск', 'оиск', 'пуиск', 'уиск', 'пойск', 'ойск', 'найти', 'наити', 'найди',\n",
    "                     'poisk', 'oisk', 'puisk', 'uisk' ,'naiti', 'search']\n",
    "    words_for_video = ['youtube', 'ютуб', 'видео', 'водос', 'видосик',\n",
    "                       'video, vidos, vidosik']\n",
    "    steam = ['стим','стиль','штим','stim','stem']\n",
    "    code = ['vscode','code','виэскод','вскод','код','вижуал']\n",
    "    \n",
    "    corpus = tokenization()\n",
    "    print('\\nПолучен корпус слов:', corpus)    \n",
    "\n",
    "    corpus = str(corpus).replace(\"['\", \"\").replace(\"']\", \"\").split(' ')\n",
    "    \n",
    "    to_web = False\n",
    "    to_video = False\n",
    "    is_steam = False\n",
    "    is_code = False\n",
    "    \n",
    "    # Удаление ключего слова из поиска \n",
    "    replace_corpus = []\n",
    "    for i in corpus: \n",
    "        if i in words_for_web:\n",
    "            to_web = True\n",
    "        elif i in words_for_video:\n",
    "            to_video = True\n",
    "            \n",
    "        elif i in steam:\n",
    "            is_steam = True   \n",
    "        elif i in code:\n",
    "            is_code = True             \n",
    "            \n",
    "        else:    \n",
    "            replace_corpus.append(i)\n",
    "            \n",
    "    if to_web == True:\n",
    "        print('Переход в браузер ...')\n",
    "        webbrowser.open('https://yandex.ru/search/?text=' + str(replace_corpus).replace(\"[\", \"\").replace(\"]\", \"\").replace(\"'\", \"\").replace(\",\", \"\"))            \n",
    "        \n",
    "    elif to_video == True:\n",
    "        print('Открываю видеохостинг youtube ...')\n",
    "        webbrowser.open('https://www.youtube.com/results?search_query=' + str(replace_corpus).replace(\"[\", \"\").replace(\"]\", \"\").replace(\"'\", \"\").replace(\",\", \"\")) \n",
    "        \n",
    "    elif is_steam == True:\n",
    "        print('Открываю локальное прилажение steam ...')\n",
    "        subprocess.call('steam')\n",
    "    \n",
    "    elif is_code == True:\n",
    "        print('Открываю локальное прилажение VScode...')\n",
    "        subprocess.call('code')\n",
    "        \n",
    "    else:\n",
    "        print('\\nКлючевого слова не найдено, повторите попытку!\\n')\n",
    "        return -1\n",
    "    return 0\n",
    "        \n",
    "        \n",
    "if __name__ == '__main__':\n",
    "    \n",
    "    path = '/home/kirill/projects/Methods-and-algorithms-for-weakly-structured-data/Methods-and-algorithms-for-weakly-structured-data/lab6/'\n",
    "    name = 'output.wav'\n",
    "    \n",
    "    print('\\nПрограмма поддерживает 3 вида комманд: 1) открыть браузер и найти что-нибудь в поисковике, 2) поиск видео из yotube, 3) запуск программ на ПК(можно открыть 2 программы: vscode и стим)')\n",
    "    print('\\nКлючевые слова для 1 команды: поиск, найти')\n",
    "    print('\\nКлючевые слова для 2 команды: youtube, видео')\n",
    "    print('\\nКлючевые слова для 3 команды: steam, code')\n",
    "    print('\\nПроизнесите комманду в течении 10 секунд:\\n')\n",
    "      \n",
    "   # 1 сеанс записи длится 10 секунд\n",
    "   # Программы найходится в цикле до тех пор, пока не распознает нужные слова\n",
    "   \n",
    "    start_sream(path, name) \n",
    "    sc = set_command()\n",
    "    \n",
    "    while sc == -1:\n",
    "        start_sream(path, name) \n",
    "        sc = set_command()      \n",
    "        \n",
    "    "
   ]
  }
 ],
 "metadata": {
  "kernelspec": {
   "display_name": ".venv",
   "language": "python",
   "name": "python3"
  },
  "language_info": {
   "codemirror_mode": {
    "name": "ipython",
    "version": 3
   },
   "file_extension": ".py",
   "mimetype": "text/x-python",
   "name": "python",
   "nbconvert_exporter": "python",
   "pygments_lexer": "ipython3",
   "version": "3.8.10"
  }
 },
 "nbformat": 4,
 "nbformat_minor": 2
}
