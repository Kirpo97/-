{
 "cells": [
  {
   "cell_type": "markdown",
   "metadata": {},
   "source": [
    "# Лабараторная работа №4:  Векторное представление текста и его кластерный анализ"
   ]
  },
  {
   "cell_type": "markdown",
   "metadata": {},
   "source": [
    "---"
   ]
  },
  {
   "cell_type": "markdown",
   "metadata": {},
   "source": [
    "# Задание:\n",
    "1. Дана коллекция текстовых документов `2021_SPORT`\n",
    "2. Необходимо провести их кластерный анализ методом спектральной кластеризации и визуализировать кластеры\n",
    "    1. Вам понадобится NLTK, PyMorphy 3 для обработки ЕЯ, Scikit-Learn, SciPy, NumPy, опционально pandas для кластеризации, matplotlib и seaborn для визуализации\n",
    "    2. Для этого каждый текст необходимо предварительно обработать: токенизировать (изучите `nltk.tokenize`), удалить стоп-слова (`nltk.corpus`, нормализовать (лемматизировать) (`pymorphy3`).\n",
    "    3. Затем из обработанных текстов нужно составить корпус — коллекцию документов в нормальной форме\n",
    "    4. Корпус передается в качестве аргумента в векторизатор (см. [`CountVectorizer` в Scikit-Learn](https://scikit-learn.org/stable/modules/feature_extraction.html#common-vectorizer-usage), пока считайте только униграммы, максимум признаков — 100-150, можно экспериментировать)\n",
    "    5. Затем нужно построить матрицу расстояний (`squareform`, `pdist` из SciPy), для текстов чаще всего берут косинусное расстояние (`cosine`) и визуализировать ее в виде тепловой карты (Seaborn вам в помощь)\n",
    "    6. Далее кластеризуем, проверяем коэффициент силуэта — может оказаться, что лучше покажет себя такая настройка: `SpectralClustering(affinity='precomputed', random_state=0`, в этом случае нужно матрицу расстояний перевести в матрицу сходства через формулу: `similarity_matrix = np.exp(- matrix ** 2 / (2. * delta ** 2))`, где `delta` — ширина Гауссова ядра, рекомендую начать где-то с 4.0\n",
    "    7. Визуализируем полученные кластеры"
   ]
  },
  {
   "cell_type": "markdown",
   "metadata": {},
   "source": [
    "---"
   ]
  },
  {
   "cell_type": "markdown",
   "metadata": {},
   "source": [
    "1. Установка и импорт библиотек: NLTK, PyMorphy 3 для обработки ЕЯ, Scikit-Learn, SciPy, NumPy, опционально pandas для кластеризации, matplotlib и seaborn для визуализации"
   ]
  },
  {
   "cell_type": "code",
   "execution_count": 33,
   "metadata": {},
   "outputs": [],
   "source": [
    "import nltk\n",
    "from nltk.corpus import stopwords\n",
    "from nltk.tokenize import word_tokenize\n",
    "import pymorphy3\n",
    "\n",
    "import os\n",
    "from dataclasses import dataclass, field                                \n",
    "from typing import List\n",
    "\n",
    "from sklearn.feature_extraction.text import CountVectorizer\n",
    "from sklearn.cluster import SpectralClustering\n",
    "from sklearn.metrics import silhouette_score\n",
    "\n",
    "import pandas as pd\n",
    "import numpy as np\n",
    "from scipy.spatial.distance import pdist, squareform\n",
    "import matplotlib.pyplot as plt"
   ]
  },
  {
   "cell_type": "code",
   "execution_count": 34,
   "metadata": {},
   "outputs": [],
   "source": [
    "@dataclass   \n",
    "class Folders: \n",
    "    files_name: List[str] = field(default_factory=list)\n",
    "    data: List[str] = field(default_factory=list)\n",
    "\n",
    "@dataclass \n",
    "class Home:\n",
    "    path: str = ''\n",
    "    name: str = ''\n",
    "    folders_name: List[Folders] = field(default_factory=list)\n"
   ]
  },
  {
   "cell_type": "markdown",
   "metadata": {},
   "source": [
    "2. Токинезация, удаление стоп-слов, нормализация (лемматизация)"
   ]
  },
  {
   "cell_type": "code",
   "execution_count": 35,
   "metadata": {},
   "outputs": [
    {
     "name": "stderr",
     "output_type": "stream",
     "text": [
      "[nltk_data] Downloading package punkt to /home/kirill/nltk_data...\n",
      "[nltk_data]   Package punkt is already up-to-date!\n",
      "[nltk_data] Downloading package stopwords to /home/kirill/nltk_data...\n",
      "[nltk_data]   Package stopwords is already up-to-date!\n"
     ]
    }
   ],
   "source": [
    "# Этот код загрузит необходимые данные punkt, которые используются для токенизации текста\n",
    "nltk.download('punkt')\n",
    "nltk.download('stopwords')\n",
    "\n",
    "stop_words = set(stopwords.words('russian'))\n",
    "morph = pymorphy3.MorphAnalyzer()"
   ]
  },
  {
   "cell_type": "markdown",
   "metadata": {},
   "source": [
    "3. Составление корпуса — коллекции документов в нормальной форме"
   ]
  },
  {
   "cell_type": "code",
   "execution_count": 36,
   "metadata": {},
   "outputs": [],
   "source": [
    "home = Home()\n",
    "folders = Folders()\n",
    "corpus = []\n",
    "path_to_file_list = []\n",
    "home.path = '/home/kirill/projects/Methods-and-algorithms-for-weakly-structured-data/Methods-and-algorithms-for-weakly-structured-data/lab4/'\n",
    "home.name = '2021_SPORT'\n",
    "folders_list = os.listdir(home.path + '/' + home.name)\n",
    "\n",
    "for i in folders_list:\n",
    "    home.folders_name.append(i)\n",
    "    d = os.listdir(home.path + '/' + home.name + '/' + i) \n",
    "    folders.files_name.append(d)\n",
    "    \n",
    "    for el in folders.files_name:\n",
    "        for j in el:\n",
    "            path_to_file_list.append(home.path + '/' + home.name + '/' + i  + '/' + j)\n",
    "   \n",
    "for i in path_to_file_list:\n",
    "    with open(i, 'r', encoding='utf-8') as f:\n",
    "        text = f.read()\n",
    "        tokens = word_tokenize(text)\n",
    "        tokens = [morph.parse(token)[0].normal_form for token in tokens if token.isalnum() and not token.isdigit()]\n",
    "        tokens = [token for token in tokens if token not in stop_words]\n",
    "        text = ' '.join(tokens)\n",
    "        corpus.append(text)"
   ]
  },
  {
   "cell_type": "markdown",
   "metadata": {},
   "source": [
    "4. Корпус передается в качестве аргумента в векторизатор"
   ]
  },
  {
   "cell_type": "code",
   "execution_count": 37,
   "metadata": {},
   "outputs": [],
   "source": [
    "\n",
    "vectorizer = CountVectorizer(max_features=150)\n",
    "X = vectorizer.fit_transform(corpus).toarray()"
   ]
  },
  {
   "cell_type": "markdown",
   "metadata": {},
   "source": [
    " 5. Построение матрицы расстояний на косинусе"
   ]
  },
  {
   "cell_type": "code",
   "execution_count": 38,
   "metadata": {},
   "outputs": [],
   "source": [
    "distance_matrix = squareform(pdist(X, metric='cosine'))"
   ]
  },
  {
   "cell_type": "markdown",
   "metadata": {},
   "source": [
    "- И визуализация в виде тепловой карты:"
   ]
  },
  {
   "cell_type": "code",
   "execution_count": 3,
   "metadata": {},
   "outputs": [
    {
     "ename": "NameError",
     "evalue": "name 'plt' is not defined",
     "output_type": "error",
     "traceback": [
      "\u001b[0;31m---------------------------------------------------------------------------\u001b[0m",
      "\u001b[0;31mNameError\u001b[0m                                 Traceback (most recent call last)",
      "Cell \u001b[0;32mIn[3], line 1\u001b[0m\n\u001b[0;32m----> 1\u001b[0m \u001b[43mplt\u001b[49m\u001b[38;5;241m.\u001b[39mfigure(figsize\u001b[38;5;241m=\u001b[39m(\u001b[38;5;241m10\u001b[39m, \u001b[38;5;241m10\u001b[39m))\n\u001b[1;32m      2\u001b[0m plt\u001b[38;5;241m.\u001b[39mscatter(distance_matrix[:,\u001b[38;5;241m0\u001b[39m], distance_matrix[:,\u001b[38;5;241m1\u001b[39m], c\u001b[38;5;241m=\u001b[39mdistance_matrix[:,\u001b[38;5;241m1\u001b[39m], cmap\u001b[38;5;241m=\u001b[39m\u001b[38;5;124m'\u001b[39m\u001b[38;5;124mplasma\u001b[39m\u001b[38;5;124m'\u001b[39m, marker\u001b[38;5;241m=\u001b[39m\u001b[38;5;124m'\u001b[39m\u001b[38;5;124mo\u001b[39m\u001b[38;5;124m'\u001b[39m)\n\u001b[1;32m      3\u001b[0m plt\u001b[38;5;241m.\u001b[39mcolorbar()\n",
      "\u001b[0;31mNameError\u001b[0m: name 'plt' is not defined"
     ]
    }
   ],
   "source": [
    "plt.figure(figsize=(10, 10))\n",
    "plt.scatter(distance_matrix[:,0], distance_matrix[:,1], c=distance_matrix[:,1], cmap='plasma', marker='o')\n",
    "plt.title('Матрица дистанций')\n",
    "plt.colorbar()\n",
    "plt.show()"
   ]
  },
  {
   "cell_type": "markdown",
   "metadata": {},
   "source": [
    "5. перевод в матрицу сходства через формулу: `similarity_matrix = np.exp(- matrix ** 2 / (2. * delta ** 2))`, где `delta` — ширина Гауссова ядра"
   ]
  },
  {
   "cell_type": "code",
   "execution_count": 40,
   "metadata": {},
   "outputs": [],
   "source": [
    "similarity_matrix = np.exp(-distance_matrix ** 2 / (2. * 4.0 ** 2))  \n",
    "spectral = SpectralClustering(affinity='precomputed', random_state=0, n_clusters=3)\n",
    "clusters = spectral.fit_predict(similarity_matrix)\n"
   ]
  },
  {
   "cell_type": "code",
   "execution_count": 45,
   "metadata": {},
   "outputs": [
    {
     "name": "stdout",
     "output_type": "stream",
     "text": [
      "Коэффициент силуэта: 0.3206825325800381\n"
     ]
    }
   ],
   "source": [
    "silhouette_avg = silhouette_score(similarity_matrix, clusters)\n",
    "print(\"Коэффициент силуэта:\", silhouette_avg)"
   ]
  },
  {
   "cell_type": "markdown",
   "metadata": {},
   "source": [
    "7. Визуализируем полученные кластеры"
   ]
  },
  {
   "cell_type": "code",
   "execution_count": 47,
   "metadata": {},
   "outputs": [
    {
     "data": {
      "image/png": "[encoded data removed]",
      "text/plain": [
       "<Figure size 640x480 with 2 Axes>"
      ]
     },
     "metadata": {},
     "output_type": "display_data"
    }
   ],
   "source": [
    "plt.scatter(X[:, 0], X[:, 1], c=clusters, cmap='viridis')\n",
    "plt.colorbar(label='Кластер')\n",
    "plt.title('Визуализация кластеров')\n",
    "plt.show()"
   ]
  }
 ],
 "metadata": {
  "kernelspec": {
   "display_name": ".venv",
   "language": "python",
   "name": "python3"
  },
  "language_info": {
   "codemirror_mode": {
    "name": "ipython",
    "version": 3
   },
   "file_extension": ".py",
   "mimetype": "text/x-python",
   "name": "python",
   "nbconvert_exporter": "python",
   "pygments_lexer": "ipython3",
   "version": "3.8.10"
  }
 },
 "nbformat": 4,
 "nbformat_minor": 2
}
